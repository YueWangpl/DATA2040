{
  "nbformat": 4,
  "nbformat_minor": 0,
  "metadata": {
    "colab": {
      "name": "Cassava Leaf Disease Classification Part 1- Yue, Tianqi.ipynb",
      "provenance": [],
      "collapsed_sections": [],
      "include_colab_link": true
    },
    "kernelspec": {
      "name": "python3",
      "display_name": "Python 3"
    }
  },
  "cells": [
    {
      "cell_type": "markdown",
      "metadata": {
        "id": "view-in-github",
        "colab_type": "text"
      },
      "source": [
        "<a href=\"https://colab.research.google.com/github/YueWangpl/DATA2040/blob/main/Cassava_Leaf_Disease_Classification_Part_1_Yue%26Tianqi.ipynb\" target=\"_parent\"><img src=\"https://colab.research.google.com/assets/colab-badge.svg\" alt=\"Open In Colab\"/></a>"
      ]
    },
    {
      "cell_type": "code",
      "metadata": {
        "id": "8nM1rrcPvynz"
      },
      "source": [
        "# Mount to Google Drive\r\n",
        "from google.colab import drive\r\n",
        "drive.mount('/content/gdrive')"
      ],
      "execution_count": null,
      "outputs": []
    },
    {
      "cell_type": "code",
      "metadata": {
        "id": "ULUs24H3v2k0"
      },
      "source": [
        "import os\r\n",
        "os.environ['KAGGLE_CONFIG_DIR'] = \"/content/gdrive/My Drive/Kaggle\""
      ],
      "execution_count": null,
      "outputs": []
    },
    {
      "cell_type": "code",
      "metadata": {
        "id": "PG0K5KMYwC6r"
      },
      "source": [
        "# pwd()\r\n",
        "#changing the working directory\r\n",
        "%cd /content/gdrive/My Drive/Kaggle"
      ],
      "execution_count": null,
      "outputs": []
    },
    {
      "cell_type": "code",
      "metadata": {
        "id": "pYmqh8Jow5xb"
      },
      "source": [
        "!kaggle competitions download -c cassava-leaf-disease-classification"
      ],
      "execution_count": null,
      "outputs": []
    },
    {
      "cell_type": "code",
      "metadata": {
        "id": "PfoP-0DZxF8a"
      },
      "source": [
        "#unzipping the zip files and deleting the zip files\r\n",
        "!unzip \\*.zip  && rm *.zip"
      ],
      "execution_count": null,
      "outputs": []
    },
    {
      "cell_type": "code",
      "metadata": {
        "id": "Mcl6sDNGZGus"
      },
      "source": [
        ""
      ],
      "execution_count": null,
      "outputs": []
    },
    {
      "cell_type": "markdown",
      "metadata": {
        "id": "FsSg5T9rZHHs"
      },
      "source": [
        "Cassava roots are a good source of carbohydrates, vitamin C, thiamine, riboflavin, and niacin. Cassava leaves, if prepared properly, can contain up to 25 percent protein. As a resilient crop, cassava is resistant to heat and does not require much fertilizer. However, it is vulnerable to bacterial and viral diseases. One way to detect the diseases is to examine the look of cassava leaves. Therefore, it is important to identify different diseases affecting cassava leaves based on the images, which, with the utilization of deep learning, is exactly what this project tries to accomplish. We hope that our modest contribution will be useful for the development of cassava disease treatments."
      ]
    },
    {
      "cell_type": "markdown",
      "metadata": {
        "id": "n6zviMBdXaId"
      },
      "source": [
        "## Exploratory Data Analysis"
      ]
    },
    {
      "cell_type": "code",
      "metadata": {
        "colab": {
          "base_uri": "https://localhost:8080/",
          "height": 204
        },
        "id": "sT2kWgaXsrzr",
        "outputId": "df512ab2-8e29-458f-b788-9618e7d053bb"
      },
      "source": [
        "# load data\r\n",
        "import pandas as pd\r\n",
        "df = pd.read_csv(\"train.csv\")\r\n",
        "df.head()"
      ],
      "execution_count": 78,
      "outputs": [
        {
          "output_type": "execute_result",
          "data": {
            "text/html": [
              "<div>\n",
              "<style scoped>\n",
              "    .dataframe tbody tr th:only-of-type {\n",
              "        vertical-align: middle;\n",
              "    }\n",
              "\n",
              "    .dataframe tbody tr th {\n",
              "        vertical-align: top;\n",
              "    }\n",
              "\n",
              "    .dataframe thead th {\n",
              "        text-align: right;\n",
              "    }\n",
              "</style>\n",
              "<table border=\"1\" class=\"dataframe\">\n",
              "  <thead>\n",
              "    <tr style=\"text-align: right;\">\n",
              "      <th></th>\n",
              "      <th>image_id</th>\n",
              "      <th>label</th>\n",
              "    </tr>\n",
              "  </thead>\n",
              "  <tbody>\n",
              "    <tr>\n",
              "      <th>0</th>\n",
              "      <td>1000015157.jpg</td>\n",
              "      <td>0</td>\n",
              "    </tr>\n",
              "    <tr>\n",
              "      <th>1</th>\n",
              "      <td>1000201771.jpg</td>\n",
              "      <td>3</td>\n",
              "    </tr>\n",
              "    <tr>\n",
              "      <th>2</th>\n",
              "      <td>100042118.jpg</td>\n",
              "      <td>1</td>\n",
              "    </tr>\n",
              "    <tr>\n",
              "      <th>3</th>\n",
              "      <td>1000723321.jpg</td>\n",
              "      <td>1</td>\n",
              "    </tr>\n",
              "    <tr>\n",
              "      <th>4</th>\n",
              "      <td>1000812911.jpg</td>\n",
              "      <td>3</td>\n",
              "    </tr>\n",
              "  </tbody>\n",
              "</table>\n",
              "</div>"
            ],
            "text/plain": [
              "         image_id  label\n",
              "0  1000015157.jpg      0\n",
              "1  1000201771.jpg      3\n",
              "2   100042118.jpg      1\n",
              "3  1000723321.jpg      1\n",
              "4  1000812911.jpg      3"
            ]
          },
          "metadata": {
            "tags": []
          },
          "execution_count": 78
        }
      ]
    },
    {
      "cell_type": "code",
      "metadata": {
        "id": "HXIzgRbPI2rF",
        "colab": {
          "base_uri": "https://localhost:8080/"
        },
        "outputId": "176113d1-fa3c-4714-fcab-f94a55a4a7a2"
      },
      "source": [
        "len(df)"
      ],
      "execution_count": 79,
      "outputs": [
        {
          "output_type": "execute_result",
          "data": {
            "text/plain": [
              "21397"
            ]
          },
          "metadata": {
            "tags": []
          },
          "execution_count": 79
        }
      ]
    },
    {
      "cell_type": "markdown",
      "metadata": {
        "id": "hemOSs_JI5z_"
      },
      "source": [
        "There are 21397 images in our training dataset, and each of them are labeled with a number that corresponds to a disease that cassava may have. \r\n",
        "\r\n",
        "To create a baseline model, the mode of the labels will be used. To find the mode, the function `.mode()` from pandas package can be used:"
      ]
    },
    {
      "cell_type": "code",
      "metadata": {
        "id": "KHiUjuxPtXcx",
        "colab": {
          "base_uri": "https://localhost:8080/"
        },
        "outputId": "732d29c1-98b6-4a42-d391-36e0145f83d7"
      },
      "source": [
        "df.label.mode()"
      ],
      "execution_count": 80,
      "outputs": [
        {
          "output_type": "execute_result",
          "data": {
            "text/plain": [
              "0    3\n",
              "dtype: int64"
            ]
          },
          "metadata": {
            "tags": []
          },
          "execution_count": 80
        }
      ]
    },
    {
      "cell_type": "markdown",
      "metadata": {
        "id": "CWXfKn9Lfivc"
      },
      "source": [
        "So 3 will be the most common label used in our dataset. Hence, a model trained with this dataset will be biased towards 3 in the end.  \r\n",
        "We can further examine how much more is 3 occuring as a label by a histogram and a pie chart:"
      ]
    },
    {
      "cell_type": "code",
      "metadata": {
        "id": "_NpDLcApB6yV",
        "colab": {
          "base_uri": "https://localhost:8080/",
          "height": 349
        },
        "outputId": "7af93a50-c256-48f4-9bce-d85d55b52c88"
      },
      "source": [
        "plt.hist(df['label'], bins=5, )\r\n",
        "plt.title('Classification Histogram')\r\n",
        "plt.xticks(range(5))\r\n",
        "plt.xlabel('labels')\r\n",
        "plt.ylabel('counts')\r\n",
        "txt=\"This histogram shows the respective counts of each label in this dataset. The x-axis represents different labels and the y-axis represents the counts.\"\r\n",
        "plt.figtext(0.5, -0.1, txt, wrap=True, horizontalalignment='center', fontsize=10)"
      ],
      "execution_count": 102,
      "outputs": [
        {
          "output_type": "execute_result",
          "data": {
            "text/plain": [
              "Text(0.5, -0.1, 'This histogram shows the respective counts of each label in this dataset. The x-axis represents different labels and the y-axis represents the counts.')"
            ]
          },
          "metadata": {
            "tags": []
          },
          "execution_count": 102
        },
        {
          "output_type": "display_data",
          "data": {
            "image/png": "[encoded data removed]",
            "text/plain": [
              "<Figure size 432x288 with 1 Axes>"
            ]
          },
          "metadata": {
            "tags": [],
            "needs_background": "light"
          }
        }
      ]
    },
    {
      "cell_type": "code",
      "metadata": {
        "id": "eAKaUyqL_k1m"
      },
      "source": [
        "label_count = df.groupby('label').count().reset_index()"
      ],
      "execution_count": 82,
      "outputs": []
    },
    {
      "cell_type": "code",
      "metadata": {
        "id": "_kpMwerYDBHr",
        "colab": {
          "base_uri": "https://localhost:8080/",
          "height": 204
        },
        "outputId": "eec5b2a0-ede1-4cf5-89f3-3df080800b49"
      },
      "source": [
        "ser = pd.read_json(\"label_num_to_disease_map.json\", typ='series')\r\n",
        "names = ser.to_frame('disease')\r\n",
        "names"
      ],
      "execution_count": 83,
      "outputs": [
        {
          "output_type": "execute_result",
          "data": {
            "text/html": [
              "<div>\n",
              "<style scoped>\n",
              "    .dataframe tbody tr th:only-of-type {\n",
              "        vertical-align: middle;\n",
              "    }\n",
              "\n",
              "    .dataframe tbody tr th {\n",
              "        vertical-align: top;\n",
              "    }\n",
              "\n",
              "    .dataframe thead th {\n",
              "        text-align: right;\n",
              "    }\n",
              "</style>\n",
              "<table border=\"1\" class=\"dataframe\">\n",
              "  <thead>\n",
              "    <tr style=\"text-align: right;\">\n",
              "      <th></th>\n",
              "      <th>disease</th>\n",
              "    </tr>\n",
              "  </thead>\n",
              "  <tbody>\n",
              "    <tr>\n",
              "      <th>0</th>\n",
              "      <td>Cassava Bacterial Blight (CBB)</td>\n",
              "    </tr>\n",
              "    <tr>\n",
              "      <th>1</th>\n",
              "      <td>Cassava Brown Streak Disease (CBSD)</td>\n",
              "    </tr>\n",
              "    <tr>\n",
              "      <th>2</th>\n",
              "      <td>Cassava Green Mottle (CGM)</td>\n",
              "    </tr>\n",
              "    <tr>\n",
              "      <th>3</th>\n",
              "      <td>Cassava Mosaic Disease (CMD)</td>\n",
              "    </tr>\n",
              "    <tr>\n",
              "      <th>4</th>\n",
              "      <td>Healthy</td>\n",
              "    </tr>\n",
              "  </tbody>\n",
              "</table>\n",
              "</div>"
            ],
            "text/plain": [
              "                               disease\n",
              "0       Cassava Bacterial Blight (CBB)\n",
              "1  Cassava Brown Streak Disease (CBSD)\n",
              "2           Cassava Green Mottle (CGM)\n",
              "3         Cassava Mosaic Disease (CMD)\n",
              "4                              Healthy"
            ]
          },
          "metadata": {
            "tags": []
          },
          "execution_count": 83
        }
      ]
    },
    {
      "cell_type": "code",
      "metadata": {
        "id": "Pr9LmIaa-AR_",
        "colab": {
          "base_uri": "https://localhost:8080/",
          "height": 251
        },
        "outputId": "3eb01226-3264-4d8d-9a00-c0c1b4da6f92"
      },
      "source": [
        "import matplotlib as mpl\r\n",
        "import matplotlib.pyplot as plt\r\n",
        "\r\n",
        "\r\n",
        "# Pie chart, where the slices will be ordered and plotted counter-clockwise:\r\n",
        "labels = tuple(names['disease'])\r\n",
        "sizes = list(label_count['image_id'])\r\n",
        "explode = (0.1, 0.1, 0.1, 0.1, 0.1) \r\n",
        "colors = ['yellowgreen', 'gold', 'lightskyblue', 'lightcoral','#A481CF']\r\n",
        "\r\n",
        "fig1, ax1 = plt.subplots()\r\n",
        "ax1.pie(sizes, explode=explode, labels=labels, colors=colors, autopct='%1.1f%%', shadow=True, startangle=90)\r\n",
        "ax1.axis('equal')  # Equal aspect ratio ensures that pie is drawn as a circle.\r\n",
        "\r\n",
        "plt.show()"
      ],
      "execution_count": 89,
      "outputs": [
        {
          "output_type": "display_data",
          "data": {
            "image/png": "[encoded data removed]",
            "text/plain": [
              "<Figure size 432x288 with 1 Axes>"
            ]
          },
          "metadata": {
            "tags": []
          }
        }
      ]
    },
    {
      "cell_type": "markdown",
      "metadata": {
        "id": "lAkueCGzQlUI"
      },
      "source": [
        "From the pie chart, it's clear that the disease with label 3, Cassava Mosaic Disease, constitutes 61.5% of all the classification of images. Hence, with a baseline model predicting 3 with whatever inputs, the accuracy will get to 61.5%. And our final deep learning model should outperform that, at least."
      ]
    },
    {
      "cell_type": "code",
      "metadata": {
        "id": "sISyH31sQW9Y",
        "colab": {
          "base_uri": "https://localhost:8080/"
        },
        "outputId": "807fed5d-3d0a-492b-c620-e032f1699e2a"
      },
      "source": [
        "from sklearn.dummy import DummyClassifier\r\n",
        "\r\n",
        "ML_algo = DummyClassifier(strategy = \"most_frequent\")\r\n",
        "param_grid = {\r\n",
        "             }\r\n",
        "X = df['image_id']\r\n",
        "y = df['label']\r\n",
        "\r\n",
        "dummy_clf = DummyClassifier(strategy=\"most_frequent\")\r\n",
        "dummy_clf.fit(X, y)\r\n",
        "dummy_clf.score(X, y)"
      ],
      "execution_count": 103,
      "outputs": [
        {
          "output_type": "execute_result",
          "data": {
            "text/plain": [
              "0.6149460204701593"
            ]
          },
          "metadata": {
            "tags": []
          },
          "execution_count": 103
        }
      ]
    },
    {
      "cell_type": "markdown",
      "metadata": {
        "id": "A9FvpUtViqvz"
      },
      "source": [
        "## Next Steps:\r\n",
        "\r\n"
      ]
    },
    {
      "cell_type": "markdown",
      "metadata": {
        "id": "gZ2EeWUki2L9"
      },
      "source": [
        "\r\n",
        "*   Image augmentation using ImageDataGenerator.  \r\n",
        "With some tweaks on the images using image augmentation such as rotation, translation, denoising, etc, we hope to achieve a smoother learning process.\r\n",
        "*   Model training from scratch.  \r\n",
        "We will build our own model scratch with convolutional layers, maxpooling, and methods such as hyperparameter tuning.\r\n",
        "*  Adopt trained models such as VGG and ResNet and perform transfer learning.  \r\n",
        "There is a copious amount of well trained models readily availble for use. We will adopt some of them and perform transfer learning and see how well the adaptation performs.\r\n",
        "\r\n",
        "> VGG16 and ResNet50 needs an input layer of shape (224,224,3), so image resizing is needed with that model.\r\n",
        "The architecture of them are described in the followin images:\r\n",
        "\r\n",
        "> VGG:  \r\n",
        "![ResNet-50.png](https://neurohive.io/wp-content/uploads/2018/11/vgg16-neural-network.jpg)  \r\n",
        "cr: https://neurohive.io/en/popular-networks/vgg16/\r\n",
        "\r\n",
        "> ResNet:\r\n",
        "![ResNet-50.png](https://www.researchgate.net/publication/338603223/figure/fig1/AS:847598516711425@1579094642237/ResNet-50-architecture-26-shown-with-the-residual-units-the-size-of-the-filters-and.png)\r\n",
        "cr: https://www.researchgate.net/publication/338603223_Automatic_Hierarchical_Classification_of_Kelps_Using_Deep_Residual_Features "
      ]
    },
    {
      "cell_type": "markdown",
      "metadata": {
        "id": "6wZ4JRRookkv"
      },
      "source": [
        "## Links"
      ]
    },
    {
      "cell_type": "markdown",
      "metadata": {
        "id": "ptsTVIBpomQa"
      },
      "source": [
        "[Kaggle Notebook](https://www.kaggle.com/yuewangpl/team1-part1)\r\n",
        "\r\n",
        "[Github Repo](https://github.com/YueWangpl/DATA2040)"
      ]
    },
    {
      "cell_type": "markdown",
      "metadata": {
        "id": "vuWLS_UPi0Gq"
      },
      "source": [
        "## References "
      ]
    },
    {
      "cell_type": "markdown",
      "metadata": {
        "id": "e2plzzgbncmI"
      },
      "source": [
        "[Cassava usage](https://www.medicalnewstoday.com/articles/323756#what-is-cassava-used-for)  \r\n",
        "[Sample Submission from Dan](https://www.kaggle.com/danpotter/blind-monkey-submission-example-data2040-sp21)  \r\n",
        "[Sample model from Kaggle](https://www.kaggle.com/jessemostipak/getting-started-tpus-cassava-leaf-disease)  \r\n",
        "[To load Kaggle dataset to colab](https://medium.com/analytics-vidhya/how-to-fetch-kaggle-datasets-into-google-colab-ea682569851a)\r\n"
      ]
    }
  ]
}